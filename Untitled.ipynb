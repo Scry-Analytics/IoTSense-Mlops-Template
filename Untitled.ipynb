{
 "cells": [
  {
   "cell_type": "markdown",
   "id": "4da2ae73-1a65-43b7-b567-d48887fe911b",
   "metadata": {},
   "source": [
    "#### Do not write / change the boiler plate code of master branch. Create New Branch with Exp_name_Model_name then write the code there."
   ]
  },
  {
   "cell_type": "code",
   "execution_count": null,
   "id": "5ff297e4-a834-4a37-9747-063e609de3ea",
   "metadata": {},
   "outputs": [],
   "source": [
    "# Variables for MLflow Tracking\n",
    "ExpName = \"IoTSense-Mlops-Template\"\n",
    "mlflow_log = True\n",
    "params = {}\n",
    "metrics = {}"
   ]
  },
  {
   "cell_type": "code",
   "execution_count": null,
   "id": "ffb0cc58-706b-4ab2-a46d-23aeba2f975e",
   "metadata": {},
   "outputs": [],
   "source": []
  },
  {
   "cell_type": "code",
   "execution_count": null,
   "id": "e2f09e44-fdde-4ea4-a65c-ebb0ab0c9bfc",
   "metadata": {},
   "outputs": [],
   "source": []
  },
  {
   "cell_type": "code",
   "execution_count": null,
   "id": "80741615-3bdf-4065-877c-52804292ed26",
   "metadata": {},
   "outputs": [],
   "source": []
  },
  {
   "cell_type": "code",
   "execution_count": null,
   "id": "a6abf6f0-83ad-4282-a561-dfa1b0a7bed9",
   "metadata": {},
   "outputs": [],
   "source": []
  },
  {
   "cell_type": "code",
   "execution_count": null,
   "id": "8d9fc667-5d0d-4784-92b5-f5106eb17c1e",
   "metadata": {},
   "outputs": [],
   "source": []
  },
  {
   "cell_type": "code",
   "execution_count": null,
   "id": "168c5191-73bd-4a58-8bed-34528f499bbc",
   "metadata": {},
   "outputs": [],
   "source": []
  },
  {
   "cell_type": "code",
   "execution_count": null,
   "id": "c9e3f697-ef07-4a9f-ada4-af40fa0eb04d",
   "metadata": {},
   "outputs": [],
   "source": []
  },
  {
   "cell_type": "code",
   "execution_count": null,
   "id": "693233b9-805c-44de-84ac-d894b68fa810",
   "metadata": {},
   "outputs": [],
   "source": []
  },
  {
   "cell_type": "code",
   "execution_count": null,
   "id": "e14dc422-4108-4c8f-8963-a7790315f297",
   "metadata": {},
   "outputs": [],
   "source": []
  },
  {
   "cell_type": "markdown",
   "id": "87ec628d-3ded-47ce-9210-f8d2d4bd9ad8",
   "metadata": {},
   "source": [
    "#### Verify Parameters and Metrics you want to logged"
   ]
  },
  {
   "cell_type": "code",
   "execution_count": null,
   "id": "f2eaecee-8a95-4b69-a9cd-2959df42ba0c",
   "metadata": {},
   "outputs": [],
   "source": [
    "print(\"Parameter Logged to Mlflow:\\n\")\n",
    "print(params)\n",
    "print(\"\\n\")\n",
    "print(\"Metrics Logged to Mlflow:\\n\")\n",
    "print(metrics)"
   ]
  },
  {
   "cell_type": "markdown",
   "id": "5cf3ec74-e3ab-4fd5-bb52-6ce88cf5b91c",
   "metadata": {},
   "source": [
    "### Mlflow Logging Section"
   ]
  },
  {
   "cell_type": "markdown",
   "id": "dbc26d0a-9221-48d2-b9a0-6c83968325eb",
   "metadata": {},
   "source": [
    "Add all the params and metrics here which you have used to train the Model here"
   ]
  },
  {
   "cell_type": "markdown",
   "id": "8a636e12-1868-46c7-b489-7310da96e110",
   "metadata": {},
   "source": [
    "This is the start_run block make sure to save the code, commit it to the Git. The commit id will attached to this run_id"
   ]
  },
  {
   "cell_type": "markdown",
   "id": "11f73ddd-e4fb-43f2-87e9-edc4089fc0f7",
   "metadata": {},
   "source": [
    "Comment Git Related Code if you dont want to log git commits"
   ]
  },
  {
   "cell_type": "code",
   "execution_count": null,
   "id": "07180808-f6b8-4a96-bfdc-705bf9d5e977",
   "metadata": {},
   "outputs": [],
   "source": [
    "if mlflow_log:\n",
    "    \n",
    "    import mlflow\n",
    "    import json\n",
    "    # Git Related Code below\n",
    "    import git \n",
    "    from mlflow.utils.mlflow_tags import MLFLOW_GIT_COMMIT, MLFLOW_SOURCE_TYPE, MLFLOW_GIT_BRANCH, MLFLOW_GIT_REPO_URL, MLFLOW_SOURCE_NAME\n",
    "    \n",
    "    mlflow.set_experiment(ExpName)\n",
    "\n",
    "    repo = git.Repo(\"\")\n",
    "    \n",
    "    with mlflow.start_run():\n",
    "        # Log the parameters used for the model fit\n",
    "        mlflow.log_params(params)\n",
    "    \n",
    "        # Log the error metrics that were calculated during validation\n",
    "        mlflow.log_metrics(metrics)\n",
    "\n",
    "        # Git Related Code below\n",
    "        tag = {MLFLOW_GIT_COMMIT: repo.head.commit, MLFLOW_SOURCE_TYPE:'GIT PROJECT', \n",
    "           MLFLOW_GIT_BRANCH:repo.active_branch, MLFLOW_SOURCE_NAME:repo.remote().url}\n",
    "        mlflow.set_tags(tag)\n",
    "        model_name = repo.active_branch.name # sets model name equal to branch name \n",
    "\n",
    "        # Uncomment below line to log the model and register it with git branch name : Logs model to mlflow as well registered that model to mlflow \n",
    "        # mlflow.sklearn.log_model(lr, \"model\", registered_model_name=model_name, signature=signature)\n",
    "\n",
    "        # mlflow.sklearn.log_model(lr, \"model\", signature=signature) # Logs model to mlflow without registering it. Change the flavour of model based on your requirement\n",
    "\n",
    "        # Logging for Evidently AI\n",
    "        mlflow.log_artifact(reference_data_path)  # reference_data_path: training dataset CSV path\n",
    "\n",
    "        column_mapping = {\n",
    "            \"prediction\": \"predicted\",  # Model output column\n",
    "            \"target\": \"quality\",  # Target column\n",
    "            \"numerical_features\": list(train_x.columns),  # List of all numerical features\n",
    "            \"categorical_features\": []  # No categorical columns\n",
    "        }\n",
    "        column_mapping_str = json.dumps(column_mapping)\n",
    "        mlflow.log_param(\"column_mapping\", column_mapping_str)\n",
    "        \n",
    "        # Optional \n",
    "        # mlflow.set_tag(\"Run_Description\", \"Added Template Code\")  \n",
    "        # mlflow.set_tag(\"Observations\", \"Observation on this run.\")"
   ]
  }
 ],
 "metadata": {
  "kernelspec": {
   "display_name": "Python 3 (ipykernel)",
   "language": "python",
   "name": "python3"
  },
  "language_info": {
   "codemirror_mode": {
    "name": "ipython",
    "version": 3
   },
   "file_extension": ".py",
   "mimetype": "text/x-python",
   "name": "python",
   "nbconvert_exporter": "python",
   "pygments_lexer": "ipython3",
   "version": "3.11.11"
  }
 },
 "nbformat": 4,
 "nbformat_minor": 5
}
